{
 "cells": [
  {
   "cell_type": "code",
   "execution_count": 2,
   "id": "0a2576de-7f75-4e52-baa1-f865315dd656",
   "metadata": {},
   "outputs": [
    {
     "data": {
      "text/plain": [
       "True"
      ]
     },
     "execution_count": 2,
     "metadata": {},
     "output_type": "execute_result"
    }
   ],
   "source": [
    "import logging\n",
    "import boto3\n",
    "import os\n",
    "import io\n",
    "from botocore.config import Config\n",
    "import pandas as pd\n",
    "pd.set_option('display.max_colwidth', None)\n",
    "pd.set_option(\"display.max_columns\", None)\n",
    "from dotenv import load_dotenv\n",
    "load_dotenv('/home/train/02_mlops_docker/.env')"
   ]
  },
  {
   "cell_type": "markdown",
   "id": "c3a4209d-95ce-48fd-9a28-70f77ebb0046",
   "metadata": {},
   "source": [
    "# With keys"
   ]
  },
  {
   "cell_type": "code",
   "execution_count": 3,
   "id": "4dd620fd-f576-4af6-a321-5631acad7cfd",
   "metadata": {},
   "outputs": [],
   "source": [
    "ACCESS_KEY = os.getenv('AWS_ACCESS_KEY_ID')\n",
    "SECRET_KEY = os.getenv('AWS_SECRET_ACCESS_KEY')"
   ]
  },
  {
   "cell_type": "code",
   "execution_count": 4,
   "id": "afa9f766-38d3-408d-a61d-f483e8b67e39",
   "metadata": {},
   "outputs": [
    {
     "name": "stdout",
     "output_type": "stream",
     "text": [
      "trainkey\n",
      "trainsecret\n"
     ]
    }
   ],
   "source": [
    "print(ACCESS_KEY)\n",
    "print(SECRET_KEY)"
   ]
  },
  {
   "cell_type": "code",
   "execution_count": 5,
   "id": "01d6bf2c-88da-49a3-a0b0-cd57dfc870d1",
   "metadata": {},
   "outputs": [],
   "source": [
    "def get_s3_client():\n",
    "    s3 = boto3.client('s3',\n",
    "                      endpoint_url='http://localhost:9000',\n",
    "                      aws_access_key_id=ACCESS_KEY,\n",
    "                      aws_secret_access_key=SECRET_KEY,\n",
    "                      config=Config(signature_version='s3v4'))\n",
    "    return s3\n",
    "\n",
    "\n",
    "def get_s3_resource():\n",
    "    s3_res = boto3.resource('s3',\n",
    "                            endpoint_url='http://localhost:9000',\n",
    "                            aws_access_key_id=ACCESS_KEY,\n",
    "                            aws_secret_access_key=SECRET_KEY,\n",
    "                            config=Config(signature_version='s3v4'))\n",
    "    return s3_res"
   ]
  },
  {
   "cell_type": "code",
   "execution_count": 6,
   "id": "b7ea8604-f4c3-4be8-922b-925bd1a4a03c",
   "metadata": {},
   "outputs": [],
   "source": [
    "def load_df_from_s3(bucket, key, index_col=None, usecols=None):\n",
    "    ''' Read a csv from a s3 bucket & load into pandas dataframe'''\n",
    "    s3 = get_s3_client()\n",
    "    try:\n",
    "        logging.info(f\"Loading {bucket, key}\")\n",
    "        obj = s3.get_object(Bucket=bucket, Key=key)\n",
    "        return pd.read_csv(obj['Body'], index_col=index_col, usecols=usecols, low_memory=False)\n",
    "    except Exception as e:\n",
    "        raise logging.exception(e)"
   ]
  },
  {
   "cell_type": "code",
   "execution_count": 7,
   "id": "d5f53e17-5cff-4108-96d5-20c0059ac01b",
   "metadata": {},
   "outputs": [],
   "source": [
    "def save_df_to_s3(df, bucket, key, index=False):\n",
    "    ''' Store df as a buffer, then save buffer to s3'''\n",
    "    s3_res = get_s3_resource()\n",
    "    try:\n",
    "        csv_buffer = io.StringIO()\n",
    "        df.to_csv(csv_buffer, index=False)\n",
    "        s3_res.Object(bucket, key).put(Body=csv_buffer.getvalue())\n",
    "        logging.info(f'{key} saved to s3 bucket {bucket}')\n",
    "    except Exception as e:\n",
    "        raise logging.exception(e)"
   ]
  },
  {
   "cell_type": "code",
   "execution_count": 8,
   "id": "252d8d01-b704-4181-9d02-e3e642e58bbf",
   "metadata": {},
   "outputs": [],
   "source": [
    "def create_bucket(bucket_name: str):\n",
    "    s3_res = get_s3_resource()\n",
    "    try:\n",
    "        s3_res.create_bucket(Bucket=bucket_name)\n",
    "        logging.info(f\"{bucket_name} created.\")\n",
    "    except Exception as e:\n",
    "        print(e)"
   ]
  },
  {
   "cell_type": "code",
   "execution_count": 9,
   "id": "8d43aa09-ef7e-403e-a04c-7e0a958961e5",
   "metadata": {},
   "outputs": [
    {
     "name": "stdout",
     "output_type": "stream",
     "text": [
      "  % Total    % Received % Xferd  Average Speed   Time    Time     Time  Current\n",
      "                                 Dload  Upload   Total   Spent    Left  Speed\n",
      "100  4556  100  4556    0     0   7929      0 --:--:-- --:--:-- --:--:--  7923\n"
     ]
    }
   ],
   "source": [
    "! curl -o ~/datasets/Advertising.csv https://raw.githubusercontent.com/erkansirin78/datasets/master/Advertising.csv"
   ]
  },
  {
   "cell_type": "code",
   "execution_count": 10,
   "id": "a6f803e6-2c1c-43d1-b2dd-0f2c51fe36f5",
   "metadata": {},
   "outputs": [],
   "source": [
    "df = pd.read_csv(\"/home/train/datasets/Advertising.csv\")"
   ]
  },
  {
   "cell_type": "code",
   "execution_count": 11,
   "id": "2123d56d-dba1-4d6b-88c2-ef19001a19a9",
   "metadata": {},
   "outputs": [
    {
     "data": {
      "text/html": [
       "<div>\n",
       "<style scoped>\n",
       "    .dataframe tbody tr th:only-of-type {\n",
       "        vertical-align: middle;\n",
       "    }\n",
       "\n",
       "    .dataframe tbody tr th {\n",
       "        vertical-align: top;\n",
       "    }\n",
       "\n",
       "    .dataframe thead th {\n",
       "        text-align: right;\n",
       "    }\n",
       "</style>\n",
       "<table border=\"1\" class=\"dataframe\">\n",
       "  <thead>\n",
       "    <tr style=\"text-align: right;\">\n",
       "      <th></th>\n",
       "      <th>ID</th>\n",
       "      <th>TV</th>\n",
       "      <th>Radio</th>\n",
       "      <th>Newspaper</th>\n",
       "      <th>Sales</th>\n",
       "    </tr>\n",
       "  </thead>\n",
       "  <tbody>\n",
       "    <tr>\n",
       "      <th>0</th>\n",
       "      <td>1</td>\n",
       "      <td>230.1</td>\n",
       "      <td>37.8</td>\n",
       "      <td>69.2</td>\n",
       "      <td>22.1</td>\n",
       "    </tr>\n",
       "    <tr>\n",
       "      <th>1</th>\n",
       "      <td>2</td>\n",
       "      <td>44.5</td>\n",
       "      <td>39.3</td>\n",
       "      <td>45.1</td>\n",
       "      <td>10.4</td>\n",
       "    </tr>\n",
       "    <tr>\n",
       "      <th>2</th>\n",
       "      <td>3</td>\n",
       "      <td>17.2</td>\n",
       "      <td>45.9</td>\n",
       "      <td>69.3</td>\n",
       "      <td>9.3</td>\n",
       "    </tr>\n",
       "    <tr>\n",
       "      <th>3</th>\n",
       "      <td>4</td>\n",
       "      <td>151.5</td>\n",
       "      <td>41.3</td>\n",
       "      <td>58.5</td>\n",
       "      <td>18.5</td>\n",
       "    </tr>\n",
       "    <tr>\n",
       "      <th>4</th>\n",
       "      <td>5</td>\n",
       "      <td>180.8</td>\n",
       "      <td>10.8</td>\n",
       "      <td>58.4</td>\n",
       "      <td>12.9</td>\n",
       "    </tr>\n",
       "  </tbody>\n",
       "</table>\n",
       "</div>"
      ],
      "text/plain": [
       "   ID     TV  Radio  Newspaper  Sales\n",
       "0   1  230.1   37.8       69.2   22.1\n",
       "1   2   44.5   39.3       45.1   10.4\n",
       "2   3   17.2   45.9       69.3    9.3\n",
       "3   4  151.5   41.3       58.5   18.5\n",
       "4   5  180.8   10.8       58.4   12.9"
      ]
     },
     "execution_count": 11,
     "metadata": {},
     "output_type": "execute_result"
    }
   ],
   "source": [
    "df.head()"
   ]
  },
  {
   "cell_type": "markdown",
   "id": "a0ff8a75-8374-4156-96a5-74e9f98eb638",
   "metadata": {},
   "source": [
    "# Save to S3 (MinIO)"
   ]
  },
  {
   "cell_type": "markdown",
   "id": "0637412c-152b-485c-9d0c-30909dadd364",
   "metadata": {},
   "source": [
    "## Create bucket"
   ]
  },
  {
   "cell_type": "code",
   "execution_count": 12,
   "id": "474cad4e-6fb6-40ea-95b8-e1d337445938",
   "metadata": {},
   "outputs": [],
   "source": [
    "create_bucket(\"mlops-test\")"
   ]
  },
  {
   "cell_type": "code",
   "execution_count": 13,
   "id": "f5b47fd6-0bd4-440e-8fc9-26853ad03912",
   "metadata": {},
   "outputs": [],
   "source": [
    "save_df_to_s3(df=df, bucket='mlops-test', key='Advertising.csv')"
   ]
  },
  {
   "cell_type": "markdown",
   "id": "facd0478-740f-4c4e-9b44-4fe1dee97446",
   "metadata": {},
   "source": [
    "# Read from S3 (MinIO)"
   ]
  },
  {
   "cell_type": "code",
   "execution_count": 14,
   "id": "8be1cffb-fc7e-4bd2-99e8-36a0fa68586f",
   "metadata": {},
   "outputs": [],
   "source": [
    "df_from_s3 = load_df_from_s3( bucket='mlops-test', key='Advertising.csv')"
   ]
  },
  {
   "cell_type": "code",
   "execution_count": 15,
   "id": "6fb4b1c8-a5b1-44ac-807b-d2b30352a197",
   "metadata": {},
   "outputs": [
    {
     "data": {
      "text/html": [
       "<div>\n",
       "<style scoped>\n",
       "    .dataframe tbody tr th:only-of-type {\n",
       "        vertical-align: middle;\n",
       "    }\n",
       "\n",
       "    .dataframe tbody tr th {\n",
       "        vertical-align: top;\n",
       "    }\n",
       "\n",
       "    .dataframe thead th {\n",
       "        text-align: right;\n",
       "    }\n",
       "</style>\n",
       "<table border=\"1\" class=\"dataframe\">\n",
       "  <thead>\n",
       "    <tr style=\"text-align: right;\">\n",
       "      <th></th>\n",
       "      <th>ID</th>\n",
       "      <th>TV</th>\n",
       "      <th>Radio</th>\n",
       "      <th>Newspaper</th>\n",
       "      <th>Sales</th>\n",
       "    </tr>\n",
       "  </thead>\n",
       "  <tbody>\n",
       "    <tr>\n",
       "      <th>0</th>\n",
       "      <td>1</td>\n",
       "      <td>230.1</td>\n",
       "      <td>37.8</td>\n",
       "      <td>69.2</td>\n",
       "      <td>22.1</td>\n",
       "    </tr>\n",
       "    <tr>\n",
       "      <th>1</th>\n",
       "      <td>2</td>\n",
       "      <td>44.5</td>\n",
       "      <td>39.3</td>\n",
       "      <td>45.1</td>\n",
       "      <td>10.4</td>\n",
       "    </tr>\n",
       "    <tr>\n",
       "      <th>2</th>\n",
       "      <td>3</td>\n",
       "      <td>17.2</td>\n",
       "      <td>45.9</td>\n",
       "      <td>69.3</td>\n",
       "      <td>9.3</td>\n",
       "    </tr>\n",
       "    <tr>\n",
       "      <th>3</th>\n",
       "      <td>4</td>\n",
       "      <td>151.5</td>\n",
       "      <td>41.3</td>\n",
       "      <td>58.5</td>\n",
       "      <td>18.5</td>\n",
       "    </tr>\n",
       "    <tr>\n",
       "      <th>4</th>\n",
       "      <td>5</td>\n",
       "      <td>180.8</td>\n",
       "      <td>10.8</td>\n",
       "      <td>58.4</td>\n",
       "      <td>12.9</td>\n",
       "    </tr>\n",
       "  </tbody>\n",
       "</table>\n",
       "</div>"
      ],
      "text/plain": [
       "   ID     TV  Radio  Newspaper  Sales\n",
       "0   1  230.1   37.8       69.2   22.1\n",
       "1   2   44.5   39.3       45.1   10.4\n",
       "2   3   17.2   45.9       69.3    9.3\n",
       "3   4  151.5   41.3       58.5   18.5\n",
       "4   5  180.8   10.8       58.4   12.9"
      ]
     },
     "execution_count": 15,
     "metadata": {},
     "output_type": "execute_result"
    }
   ],
   "source": [
    "df_from_s3.head()"
   ]
  },
  {
   "cell_type": "markdown",
   "id": "fb449156-0657-4d3e-a4b7-18f0521b075c",
   "metadata": {},
   "source": [
    "# Without keys"
   ]
  },
  {
   "cell_type": "code",
   "execution_count": 16,
   "id": "84ccade9-213b-4cac-80e4-269905398ad0",
   "metadata": {},
   "outputs": [],
   "source": [
    "def get_s3_client():\n",
    "    s3 = boto3.client('s3',\n",
    "                      endpoint_url='http://localhost:9000',\n",
    "                      config=Config(signature_version='s3v4'))\n",
    "    return s3\n",
    "\n",
    "\n",
    "def get_s3_resource():\n",
    "    s3_res = boto3.resource('s3',\n",
    "                            endpoint_url='http://localhost:9000',\n",
    "                            config=Config(signature_version='s3v4'))\n",
    "    return s3_res"
   ]
  },
  {
   "cell_type": "code",
   "execution_count": 17,
   "id": "a287ae9d-5593-475d-bdd7-58eb015fee8e",
   "metadata": {},
   "outputs": [],
   "source": [
    "df_from_s3 = load_df_from_s3( bucket='mlops-test', key='Advertising.csv')"
   ]
  },
  {
   "cell_type": "code",
   "execution_count": 18,
   "id": "e74954d3-e933-4b2f-a352-b7ce723e3691",
   "metadata": {},
   "outputs": [
    {
     "data": {
      "text/html": [
       "<div>\n",
       "<style scoped>\n",
       "    .dataframe tbody tr th:only-of-type {\n",
       "        vertical-align: middle;\n",
       "    }\n",
       "\n",
       "    .dataframe tbody tr th {\n",
       "        vertical-align: top;\n",
       "    }\n",
       "\n",
       "    .dataframe thead th {\n",
       "        text-align: right;\n",
       "    }\n",
       "</style>\n",
       "<table border=\"1\" class=\"dataframe\">\n",
       "  <thead>\n",
       "    <tr style=\"text-align: right;\">\n",
       "      <th></th>\n",
       "      <th>ID</th>\n",
       "      <th>TV</th>\n",
       "      <th>Radio</th>\n",
       "      <th>Newspaper</th>\n",
       "      <th>Sales</th>\n",
       "    </tr>\n",
       "  </thead>\n",
       "  <tbody>\n",
       "    <tr>\n",
       "      <th>0</th>\n",
       "      <td>1</td>\n",
       "      <td>230.1</td>\n",
       "      <td>37.8</td>\n",
       "      <td>69.2</td>\n",
       "      <td>22.1</td>\n",
       "    </tr>\n",
       "    <tr>\n",
       "      <th>1</th>\n",
       "      <td>2</td>\n",
       "      <td>44.5</td>\n",
       "      <td>39.3</td>\n",
       "      <td>45.1</td>\n",
       "      <td>10.4</td>\n",
       "    </tr>\n",
       "    <tr>\n",
       "      <th>2</th>\n",
       "      <td>3</td>\n",
       "      <td>17.2</td>\n",
       "      <td>45.9</td>\n",
       "      <td>69.3</td>\n",
       "      <td>9.3</td>\n",
       "    </tr>\n",
       "    <tr>\n",
       "      <th>3</th>\n",
       "      <td>4</td>\n",
       "      <td>151.5</td>\n",
       "      <td>41.3</td>\n",
       "      <td>58.5</td>\n",
       "      <td>18.5</td>\n",
       "    </tr>\n",
       "    <tr>\n",
       "      <th>4</th>\n",
       "      <td>5</td>\n",
       "      <td>180.8</td>\n",
       "      <td>10.8</td>\n",
       "      <td>58.4</td>\n",
       "      <td>12.9</td>\n",
       "    </tr>\n",
       "  </tbody>\n",
       "</table>\n",
       "</div>"
      ],
      "text/plain": [
       "   ID     TV  Radio  Newspaper  Sales\n",
       "0   1  230.1   37.8       69.2   22.1\n",
       "1   2   44.5   39.3       45.1   10.4\n",
       "2   3   17.2   45.9       69.3    9.3\n",
       "3   4  151.5   41.3       58.5   18.5\n",
       "4   5  180.8   10.8       58.4   12.9"
      ]
     },
     "execution_count": 18,
     "metadata": {},
     "output_type": "execute_result"
    }
   ],
   "source": [
    "df_from_s3.head()"
   ]
  },
  {
   "cell_type": "code",
   "execution_count": null,
   "id": "3ab623cc-7753-44b7-b90f-2772da3fcf25",
   "metadata": {},
   "outputs": [],
   "source": []
  }
 ],
 "metadata": {
  "kernelspec": {
   "display_name": "ds-dev",
   "language": "python",
   "name": "ds-dev"
  },
  "language_info": {
   "codemirror_mode": {
    "name": "ipython",
    "version": 3
   },
   "file_extension": ".py",
   "mimetype": "text/x-python",
   "name": "python",
   "nbconvert_exporter": "python",
   "pygments_lexer": "ipython3",
   "version": "3.8.15"
  }
 },
 "nbformat": 4,
 "nbformat_minor": 5
}
