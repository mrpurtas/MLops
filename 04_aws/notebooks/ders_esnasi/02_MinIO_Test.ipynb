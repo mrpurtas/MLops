{
 "cells": [
  {
   "cell_type": "code",
   "execution_count": 1,
   "id": "b0ac9660-6d02-4d92-a646-3be707aa3212",
   "metadata": {},
   "outputs": [
    {
     "data": {
      "text/plain": [
       "True"
      ]
     },
     "execution_count": 1,
     "metadata": {},
     "output_type": "execute_result"
    }
   ],
   "source": [
    "import logging\n",
    "import boto3\n",
    "import os\n",
    "import io\n",
    "from botocore.config import Config\n",
    "import pandas as pd\n",
    "from dotenv import load_dotenv\n",
    "load_dotenv()"
   ]
  },
  {
   "cell_type": "code",
   "execution_count": 2,
   "id": "f0b6ed8e-4669-42cc-8a20-c8876ad2f95e",
   "metadata": {},
   "outputs": [],
   "source": [
    "# pip install python-dotenv==0.21.0"
   ]
  },
  {
   "cell_type": "code",
   "execution_count": 3,
   "id": "2fe154f0-7a23-4402-a302-9cecf517f2a7",
   "metadata": {},
   "outputs": [],
   "source": [
    "ACCESS_KEY = os.getenv('AWS_ACCESS_KEY_ID')\n",
    "SECRET_KEY = os.getenv('AWS_SECRET_ACCESS_KEY')\n",
    "MLFLOW_S3_ENDPOINT_URL = os.getenv('MLFLOW_S3_ENDPOINT_URL')"
   ]
  },
  {
   "cell_type": "code",
   "execution_count": 4,
   "id": "9f85037c-0c73-406e-80a4-eede3412ec1b",
   "metadata": {},
   "outputs": [
    {
     "name": "stdout",
     "output_type": "stream",
     "text": [
      "http://localhost:9000\n"
     ]
    }
   ],
   "source": [
    "print(MLFLOW_S3_ENDPOINT_URL)"
   ]
  },
  {
   "cell_type": "code",
   "execution_count": 5,
   "id": "493a743c-7fc9-41cb-8b92-d2edb62ae4ba",
   "metadata": {},
   "outputs": [],
   "source": [
    "def get_s3_client():\n",
    "    s3 = boto3.client('s3',\n",
    "                      endpoint_url=MLFLOW_S3_ENDPOINT_URL,\n",
    "                      aws_access_key_id=ACCESS_KEY,\n",
    "                      aws_secret_access_key=SECRET_KEY,\n",
    "                      config=Config(signature_version='s3v4'))\n",
    "    return s3\n",
    "\n",
    "\n",
    "def get_s3_resource():\n",
    "    s3_res = boto3.resource('s3',\n",
    "                            endpoint_url=MLFLOW_S3_ENDPOINT_URL,\n",
    "                            aws_access_key_id=ACCESS_KEY,\n",
    "                            aws_secret_access_key=SECRET_KEY,\n",
    "                            config=Config(signature_version='s3v4'))\n",
    "    return s3_res\n"
   ]
  },
  {
   "cell_type": "code",
   "execution_count": 6,
   "id": "df4f383a-a9f3-4416-b34e-b105dd6e0c28",
   "metadata": {},
   "outputs": [],
   "source": [
    "def save_df_to_s3(df, bucket, key, index=False):\n",
    "    ''' Store df as a buffer, then save buffer to s3'''\n",
    "    s3_res = get_s3_resource()\n",
    "    try:\n",
    "        csv_buffer = io.StringIO()\n",
    "        df.to_csv(csv_buffer, index=False)\n",
    "        s3_res.Object(bucket, key).put(Body=csv_buffer.getvalue())\n",
    "        logging.info(f'{key} saved to s3 bucket {bucket}')\n",
    "    except Exception as e:\n",
    "        raise logging.exception(e)"
   ]
  },
  {
   "cell_type": "code",
   "execution_count": 7,
   "id": "cf05b403-6e7e-48fc-a889-c649e014103b",
   "metadata": {},
   "outputs": [],
   "source": [
    "def load_df_from_s3(bucket, key, index_col=None, usecols=None, sep=\",\"):\n",
    "    ''' Read a csv from a s3 bucket & load into pandas dataframe'''\n",
    "    s3 = get_s3_client()\n",
    "    try:\n",
    "        logging.info(f\"Loading {bucket, key}\")\n",
    "        obj = s3.get_object(Bucket=bucket, Key=key)\n",
    "        return pd.read_csv(obj['Body'], index_col=index_col, usecols=usecols, low_memory=False, sep=sep)\n",
    "    except Exception as e:\n",
    "        raise logging.exception(e)\n"
   ]
  },
  {
   "cell_type": "code",
   "execution_count": 8,
   "id": "64553ee3-3a3e-4806-804a-dd3c4dffbcfc",
   "metadata": {},
   "outputs": [],
   "source": [
    "def create_bucket(bucket_name: str):\n",
    "    s3_res = get_s3_resource()\n",
    "    try:\n",
    "        s3_res.create_bucket(Bucket=bucket_name)\n",
    "        logging.info(f\"{bucket_name} created.\")\n",
    "    except Exception as e:\n",
    "        print(e)"
   ]
  },
  {
   "cell_type": "code",
   "execution_count": 9,
   "id": "47033ad5-951c-44c6-bea4-a6eabde2a94f",
   "metadata": {},
   "outputs": [
    {
     "name": "stdout",
     "output_type": "stream",
     "text": [
      "mkdir: cannot create directory ‘/home/train/datasets’: File exists\n"
     ]
    }
   ],
   "source": [
    "! mkdir  ~/datasets"
   ]
  },
  {
   "cell_type": "code",
   "execution_count": 10,
   "id": "410f6b43-463d-47fd-8c46-f49dcb6916c1",
   "metadata": {},
   "outputs": [
    {
     "name": "stdout",
     "output_type": "stream",
     "text": [
      "  % Total    % Received % Xferd  Average Speed   Time    Time     Time  Current\n",
      "                                 Dload  Upload   Total   Spent    Left  Speed\n",
      "100  4556  100  4556    0     0  11590      0 --:--:-- --:--:-- --:--:-- 11622\n"
     ]
    }
   ],
   "source": [
    "! curl -o ~/datasets/Advertising.csv https://raw.githubusercontent.com/erkansirin78/datasets/master/Advertising.csv\n",
    "\n"
   ]
  },
  {
   "cell_type": "code",
   "execution_count": 11,
   "id": "6e898322-2b29-4ff5-8ec7-7d02119d7d6e",
   "metadata": {},
   "outputs": [
    {
     "name": "stdout",
     "output_type": "stream",
     "text": [
      "total 8\n",
      "-rw-rw-r--. 1 train train 4556 Dec 11 12:35 Advertising.csv\n"
     ]
    }
   ],
   "source": [
    "! ls -l /home/train/datasets/"
   ]
  },
  {
   "cell_type": "code",
   "execution_count": 12,
   "id": "3a1a60fb-858a-48c8-bd4e-e819a40b9bfe",
   "metadata": {},
   "outputs": [],
   "source": [
    "df = pd.read_csv(\"/home/train/datasets/Advertising.csv\")"
   ]
  },
  {
   "cell_type": "code",
   "execution_count": 13,
   "id": "68e35524-977d-41f1-93f2-c083be56644b",
   "metadata": {},
   "outputs": [
    {
     "data": {
      "text/html": [
       "<div>\n",
       "<style scoped>\n",
       "    .dataframe tbody tr th:only-of-type {\n",
       "        vertical-align: middle;\n",
       "    }\n",
       "\n",
       "    .dataframe tbody tr th {\n",
       "        vertical-align: top;\n",
       "    }\n",
       "\n",
       "    .dataframe thead th {\n",
       "        text-align: right;\n",
       "    }\n",
       "</style>\n",
       "<table border=\"1\" class=\"dataframe\">\n",
       "  <thead>\n",
       "    <tr style=\"text-align: right;\">\n",
       "      <th></th>\n",
       "      <th>ID</th>\n",
       "      <th>TV</th>\n",
       "      <th>Radio</th>\n",
       "      <th>Newspaper</th>\n",
       "      <th>Sales</th>\n",
       "    </tr>\n",
       "  </thead>\n",
       "  <tbody>\n",
       "    <tr>\n",
       "      <th>0</th>\n",
       "      <td>1</td>\n",
       "      <td>230.1</td>\n",
       "      <td>37.8</td>\n",
       "      <td>69.2</td>\n",
       "      <td>22.1</td>\n",
       "    </tr>\n",
       "    <tr>\n",
       "      <th>1</th>\n",
       "      <td>2</td>\n",
       "      <td>44.5</td>\n",
       "      <td>39.3</td>\n",
       "      <td>45.1</td>\n",
       "      <td>10.4</td>\n",
       "    </tr>\n",
       "    <tr>\n",
       "      <th>2</th>\n",
       "      <td>3</td>\n",
       "      <td>17.2</td>\n",
       "      <td>45.9</td>\n",
       "      <td>69.3</td>\n",
       "      <td>9.3</td>\n",
       "    </tr>\n",
       "    <tr>\n",
       "      <th>3</th>\n",
       "      <td>4</td>\n",
       "      <td>151.5</td>\n",
       "      <td>41.3</td>\n",
       "      <td>58.5</td>\n",
       "      <td>18.5</td>\n",
       "    </tr>\n",
       "    <tr>\n",
       "      <th>4</th>\n",
       "      <td>5</td>\n",
       "      <td>180.8</td>\n",
       "      <td>10.8</td>\n",
       "      <td>58.4</td>\n",
       "      <td>12.9</td>\n",
       "    </tr>\n",
       "  </tbody>\n",
       "</table>\n",
       "</div>"
      ],
      "text/plain": [
       "   ID     TV  Radio  Newspaper  Sales\n",
       "0   1  230.1   37.8       69.2   22.1\n",
       "1   2   44.5   39.3       45.1   10.4\n",
       "2   3   17.2   45.9       69.3    9.3\n",
       "3   4  151.5   41.3       58.5   18.5\n",
       "4   5  180.8   10.8       58.4   12.9"
      ]
     },
     "execution_count": 13,
     "metadata": {},
     "output_type": "execute_result"
    }
   ],
   "source": [
    "df.head()"
   ]
  },
  {
   "cell_type": "code",
   "execution_count": 14,
   "id": "8c4e0a97-f486-4910-9fa5-3755644b6854",
   "metadata": {},
   "outputs": [],
   "source": [
    "create_bucket(\"mlops-test\")"
   ]
  },
  {
   "cell_type": "code",
   "execution_count": 15,
   "id": "127fe94b-f12c-4f50-827c-4efda9518681",
   "metadata": {},
   "outputs": [],
   "source": [
    "save_df_to_s3(df=df, bucket='mlops-test', key='Advertising_kdkjdfkfd.csv')"
   ]
  },
  {
   "cell_type": "code",
   "execution_count": 16,
   "id": "d93ea631-70ee-4e49-b369-6dc36556b4e9",
   "metadata": {},
   "outputs": [],
   "source": [
    "df_from_s3 = load_df_from_s3( bucket='mlops-test', key='Advertising_kdkjdfkfd.csv')"
   ]
  },
  {
   "cell_type": "code",
   "execution_count": 17,
   "id": "04563745-db10-4212-bf8e-c0bddf4d08d4",
   "metadata": {},
   "outputs": [
    {
     "data": {
      "text/html": [
       "<div>\n",
       "<style scoped>\n",
       "    .dataframe tbody tr th:only-of-type {\n",
       "        vertical-align: middle;\n",
       "    }\n",
       "\n",
       "    .dataframe tbody tr th {\n",
       "        vertical-align: top;\n",
       "    }\n",
       "\n",
       "    .dataframe thead th {\n",
       "        text-align: right;\n",
       "    }\n",
       "</style>\n",
       "<table border=\"1\" class=\"dataframe\">\n",
       "  <thead>\n",
       "    <tr style=\"text-align: right;\">\n",
       "      <th></th>\n",
       "      <th>ID</th>\n",
       "      <th>TV</th>\n",
       "      <th>Radio</th>\n",
       "      <th>Newspaper</th>\n",
       "      <th>Sales</th>\n",
       "    </tr>\n",
       "  </thead>\n",
       "  <tbody>\n",
       "    <tr>\n",
       "      <th>0</th>\n",
       "      <td>1</td>\n",
       "      <td>230.1</td>\n",
       "      <td>37.8</td>\n",
       "      <td>69.2</td>\n",
       "      <td>22.1</td>\n",
       "    </tr>\n",
       "    <tr>\n",
       "      <th>1</th>\n",
       "      <td>2</td>\n",
       "      <td>44.5</td>\n",
       "      <td>39.3</td>\n",
       "      <td>45.1</td>\n",
       "      <td>10.4</td>\n",
       "    </tr>\n",
       "    <tr>\n",
       "      <th>2</th>\n",
       "      <td>3</td>\n",
       "      <td>17.2</td>\n",
       "      <td>45.9</td>\n",
       "      <td>69.3</td>\n",
       "      <td>9.3</td>\n",
       "    </tr>\n",
       "    <tr>\n",
       "      <th>3</th>\n",
       "      <td>4</td>\n",
       "      <td>151.5</td>\n",
       "      <td>41.3</td>\n",
       "      <td>58.5</td>\n",
       "      <td>18.5</td>\n",
       "    </tr>\n",
       "    <tr>\n",
       "      <th>4</th>\n",
       "      <td>5</td>\n",
       "      <td>180.8</td>\n",
       "      <td>10.8</td>\n",
       "      <td>58.4</td>\n",
       "      <td>12.9</td>\n",
       "    </tr>\n",
       "  </tbody>\n",
       "</table>\n",
       "</div>"
      ],
      "text/plain": [
       "   ID     TV  Radio  Newspaper  Sales\n",
       "0   1  230.1   37.8       69.2   22.1\n",
       "1   2   44.5   39.3       45.1   10.4\n",
       "2   3   17.2   45.9       69.3    9.3\n",
       "3   4  151.5   41.3       58.5   18.5\n",
       "4   5  180.8   10.8       58.4   12.9"
      ]
     },
     "execution_count": 17,
     "metadata": {},
     "output_type": "execute_result"
    }
   ],
   "source": [
    "df_from_s3.head()"
   ]
  },
  {
   "cell_type": "code",
   "execution_count": null,
   "id": "34b9c448-9630-4090-9015-870dd822c78d",
   "metadata": {},
   "outputs": [],
   "source": []
  }
 ],
 "metadata": {
  "kernelspec": {
   "display_name": "ds-dev",
   "language": "python",
   "name": "ds-dev"
  },
  "language_info": {
   "codemirror_mode": {
    "name": "ipython",
    "version": 3
   },
   "file_extension": ".py",
   "mimetype": "text/x-python",
   "name": "python",
   "nbconvert_exporter": "python",
   "pygments_lexer": "ipython3",
   "version": "3.8.15"
  }
 },
 "nbformat": 4,
 "nbformat_minor": 5
}
