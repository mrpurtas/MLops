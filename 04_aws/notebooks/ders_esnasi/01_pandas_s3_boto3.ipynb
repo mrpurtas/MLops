{
 "cells": [
  {
   "cell_type": "code",
   "execution_count": 1,
   "id": "8aa38ec5-39aa-488b-9764-6f95e0116f4e",
   "metadata": {},
   "outputs": [],
   "source": [
    "import boto3\n",
    "import pandas as pd\n",
    "import io, logging"
   ]
  },
  {
   "cell_type": "code",
   "execution_count": 2,
   "id": "82fee593-61fb-44e5-8f50-7277aa270b80",
   "metadata": {},
   "outputs": [],
   "source": [
    "session = boto3.Session(profile_name='aws')"
   ]
  },
  {
   "cell_type": "code",
   "execution_count": 3,
   "id": "8b1331c8-6c30-4668-80da-164ef896fbdf",
   "metadata": {},
   "outputs": [],
   "source": [
    "s3_res = session.resource('s3')\n",
    "s3_client = session.client('s3')"
   ]
  },
  {
   "cell_type": "code",
   "execution_count": 4,
   "id": "6392063d-dc3e-4ed7-8ff7-62d24f8ef3b2",
   "metadata": {},
   "outputs": [],
   "source": [
    "df = pd.read_csv(\"https://raw.githubusercontent.com/erkansirin78/datasets/master/Advertising.csv\")"
   ]
  },
  {
   "cell_type": "code",
   "execution_count": 5,
   "id": "34ef6e2c-a646-405b-bd80-e36f150641b4",
   "metadata": {},
   "outputs": [
    {
     "data": {
      "text/html": [
       "<div>\n",
       "<style scoped>\n",
       "    .dataframe tbody tr th:only-of-type {\n",
       "        vertical-align: middle;\n",
       "    }\n",
       "\n",
       "    .dataframe tbody tr th {\n",
       "        vertical-align: top;\n",
       "    }\n",
       "\n",
       "    .dataframe thead th {\n",
       "        text-align: right;\n",
       "    }\n",
       "</style>\n",
       "<table border=\"1\" class=\"dataframe\">\n",
       "  <thead>\n",
       "    <tr style=\"text-align: right;\">\n",
       "      <th></th>\n",
       "      <th>ID</th>\n",
       "      <th>TV</th>\n",
       "      <th>Radio</th>\n",
       "      <th>Newspaper</th>\n",
       "      <th>Sales</th>\n",
       "    </tr>\n",
       "  </thead>\n",
       "  <tbody>\n",
       "    <tr>\n",
       "      <th>0</th>\n",
       "      <td>1</td>\n",
       "      <td>230.1</td>\n",
       "      <td>37.8</td>\n",
       "      <td>69.2</td>\n",
       "      <td>22.1</td>\n",
       "    </tr>\n",
       "    <tr>\n",
       "      <th>1</th>\n",
       "      <td>2</td>\n",
       "      <td>44.5</td>\n",
       "      <td>39.3</td>\n",
       "      <td>45.1</td>\n",
       "      <td>10.4</td>\n",
       "    </tr>\n",
       "    <tr>\n",
       "      <th>2</th>\n",
       "      <td>3</td>\n",
       "      <td>17.2</td>\n",
       "      <td>45.9</td>\n",
       "      <td>69.3</td>\n",
       "      <td>9.3</td>\n",
       "    </tr>\n",
       "    <tr>\n",
       "      <th>3</th>\n",
       "      <td>4</td>\n",
       "      <td>151.5</td>\n",
       "      <td>41.3</td>\n",
       "      <td>58.5</td>\n",
       "      <td>18.5</td>\n",
       "    </tr>\n",
       "    <tr>\n",
       "      <th>4</th>\n",
       "      <td>5</td>\n",
       "      <td>180.8</td>\n",
       "      <td>10.8</td>\n",
       "      <td>58.4</td>\n",
       "      <td>12.9</td>\n",
       "    </tr>\n",
       "  </tbody>\n",
       "</table>\n",
       "</div>"
      ],
      "text/plain": [
       "   ID     TV  Radio  Newspaper  Sales\n",
       "0   1  230.1   37.8       69.2   22.1\n",
       "1   2   44.5   39.3       45.1   10.4\n",
       "2   3   17.2   45.9       69.3    9.3\n",
       "3   4  151.5   41.3       58.5   18.5\n",
       "4   5  180.8   10.8       58.4   12.9"
      ]
     },
     "execution_count": 5,
     "metadata": {},
     "output_type": "execute_result"
    }
   ],
   "source": [
    "df.head()"
   ]
  },
  {
   "cell_type": "markdown",
   "id": "a7d16833-4c00-4857-b659-ca577104cd37",
   "metadata": {},
   "source": [
    "# Save df to s3 bucket"
   ]
  },
  {
   "cell_type": "code",
   "execution_count": 6,
   "id": "c885d830-fd76-4949-9806-fd3abbd975ba",
   "metadata": {},
   "outputs": [],
   "source": [
    "def save_df_to_s3(df, bucket, key):\n",
    "    ''' Store df as a buffer, then save buffer to s3'''\n",
    "    try:\n",
    "        csv_buffer = io.StringIO()\n",
    "        df.to_csv(csv_buffer, index=False)\n",
    "        # s3_resource = boto3.resource('s3')\n",
    "        s3_res.Object(bucket, key).put(Body=csv_buffer.getvalue())\n",
    "        logging.info(f'{key} saved to s3 bucket {bucket}')\n",
    "    except Exception as e:\n",
    "        raise logging.exception(e)"
   ]
  },
  {
   "cell_type": "code",
   "execution_count": 7,
   "id": "c2821c5b-cbb9-424c-9ec4-c024b5692b82",
   "metadata": {},
   "outputs": [],
   "source": [
    "save_df_to_s3(df=df, bucket='vbo-de-bootcamp', key='mlops2/Advertising.csv')"
   ]
  },
  {
   "cell_type": "markdown",
   "id": "2f88be85-8ea5-4373-8315-3c01ef0cf1cb",
   "metadata": {},
   "source": [
    "# Read df from s3 bucket"
   ]
  },
  {
   "cell_type": "code",
   "execution_count": 8,
   "id": "6f5d8104-b573-48e1-9152-707eb2dd318f",
   "metadata": {},
   "outputs": [],
   "source": [
    "def load_df_from_s3(bucket, key, s3_client, index_col=None, usecols=None, sep=\",\"):\n",
    "    ''' Read a csv from a s3 bucket & load into pandas dataframe'''\n",
    "    try:\n",
    "        logging.info(f\"Loading {bucket, key}\")\n",
    "        obj = s3_client.get_object(Bucket=bucket, Key=key)\n",
    "        return pd.read_csv(obj['Body'], index_col=index_col, usecols=usecols, low_memory=False, sep=sep)\n",
    "    except Exception as e:\n",
    "        raise logging.exception(e)"
   ]
  },
  {
   "cell_type": "code",
   "execution_count": 10,
   "id": "a086c22a-0772-47f4-a47a-8255973c2a28",
   "metadata": {},
   "outputs": [],
   "source": [
    "df_from_s3 = load_df_from_s3(bucket='vbo-de-bootcamp', key='mlops2/Advertising.csv', s3_client=s3_client)"
   ]
  },
  {
   "cell_type": "code",
   "execution_count": 11,
   "id": "6d484404-923f-4253-9cb9-6e18e683d076",
   "metadata": {},
   "outputs": [
    {
     "data": {
      "text/html": [
       "<div>\n",
       "<style scoped>\n",
       "    .dataframe tbody tr th:only-of-type {\n",
       "        vertical-align: middle;\n",
       "    }\n",
       "\n",
       "    .dataframe tbody tr th {\n",
       "        vertical-align: top;\n",
       "    }\n",
       "\n",
       "    .dataframe thead th {\n",
       "        text-align: right;\n",
       "    }\n",
       "</style>\n",
       "<table border=\"1\" class=\"dataframe\">\n",
       "  <thead>\n",
       "    <tr style=\"text-align: right;\">\n",
       "      <th></th>\n",
       "      <th>ID</th>\n",
       "      <th>TV</th>\n",
       "      <th>Radio</th>\n",
       "      <th>Newspaper</th>\n",
       "      <th>Sales</th>\n",
       "    </tr>\n",
       "  </thead>\n",
       "  <tbody>\n",
       "    <tr>\n",
       "      <th>0</th>\n",
       "      <td>1</td>\n",
       "      <td>230.1</td>\n",
       "      <td>37.8</td>\n",
       "      <td>69.2</td>\n",
       "      <td>22.1</td>\n",
       "    </tr>\n",
       "    <tr>\n",
       "      <th>1</th>\n",
       "      <td>2</td>\n",
       "      <td>44.5</td>\n",
       "      <td>39.3</td>\n",
       "      <td>45.1</td>\n",
       "      <td>10.4</td>\n",
       "    </tr>\n",
       "    <tr>\n",
       "      <th>2</th>\n",
       "      <td>3</td>\n",
       "      <td>17.2</td>\n",
       "      <td>45.9</td>\n",
       "      <td>69.3</td>\n",
       "      <td>9.3</td>\n",
       "    </tr>\n",
       "    <tr>\n",
       "      <th>3</th>\n",
       "      <td>4</td>\n",
       "      <td>151.5</td>\n",
       "      <td>41.3</td>\n",
       "      <td>58.5</td>\n",
       "      <td>18.5</td>\n",
       "    </tr>\n",
       "    <tr>\n",
       "      <th>4</th>\n",
       "      <td>5</td>\n",
       "      <td>180.8</td>\n",
       "      <td>10.8</td>\n",
       "      <td>58.4</td>\n",
       "      <td>12.9</td>\n",
       "    </tr>\n",
       "  </tbody>\n",
       "</table>\n",
       "</div>"
      ],
      "text/plain": [
       "   ID     TV  Radio  Newspaper  Sales\n",
       "0   1  230.1   37.8       69.2   22.1\n",
       "1   2   44.5   39.3       45.1   10.4\n",
       "2   3   17.2   45.9       69.3    9.3\n",
       "3   4  151.5   41.3       58.5   18.5\n",
       "4   5  180.8   10.8       58.4   12.9"
      ]
     },
     "execution_count": 11,
     "metadata": {},
     "output_type": "execute_result"
    }
   ],
   "source": [
    "df_from_s3.head()"
   ]
  },
  {
   "cell_type": "code",
   "execution_count": null,
   "id": "487b9fc9-8e15-48a7-a796-b2c3d9846901",
   "metadata": {},
   "outputs": [],
   "source": []
  }
 ],
 "metadata": {
  "kernelspec": {
   "display_name": "ds-dev",
   "language": "python",
   "name": "ds-dev"
  },
  "language_info": {
   "codemirror_mode": {
    "name": "ipython",
    "version": 3
   },
   "file_extension": ".py",
   "mimetype": "text/x-python",
   "name": "python",
   "nbconvert_exporter": "python",
   "pygments_lexer": "ipython3",
   "version": "3.8.15"
  }
 },
 "nbformat": 4,
 "nbformat_minor": 5
}
