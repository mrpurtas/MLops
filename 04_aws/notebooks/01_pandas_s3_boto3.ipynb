{
 "cells": [
  {
   "cell_type": "code",
   "execution_count": 1,
   "id": "1110df0f-4f15-4a59-a4a0-349adebf2e2a",
   "metadata": {},
   "outputs": [],
   "source": [
    "import boto3\n",
    "import pandas as pd\n",
    "import io, logging"
   ]
  },
  {
   "cell_type": "markdown",
   "id": "f783559b-4189-43e7-90f9-4472b3b40302",
   "metadata": {},
   "source": [
    "# Get s3 client and resource"
   ]
  },
  {
   "cell_type": "code",
   "execution_count": 7,
   "id": "b31387c0-0232-4d44-b39b-172972eb8483",
   "metadata": {},
   "outputs": [],
   "source": [
    "session = boto3.Session(profile_name='aws')\n",
    "s3_res = session.resource('s3')\n",
    "client = session.client('s3')"
   ]
  },
  {
   "cell_type": "markdown",
   "id": "26f07b86-c1bc-46dd-a5cd-b5dc0ee8263e",
   "metadata": {},
   "source": [
    "# Write dataframe to S3"
   ]
  },
  {
   "cell_type": "code",
   "execution_count": 8,
   "id": "2b150e46-7624-4a1e-b3c8-2e53686abf1c",
   "metadata": {},
   "outputs": [],
   "source": [
    "df = pd.read_csv(\"https://raw.githubusercontent.com/erkansirin78/datasets/master/Advertising.csv\")"
   ]
  },
  {
   "cell_type": "code",
   "execution_count": 9,
   "id": "16191adb-ea7d-498f-98ed-6442520a7dff",
   "metadata": {},
   "outputs": [],
   "source": [
    "def save_df_to_s3(df, bucket, key):\n",
    "    ''' Store df as a buffer, then save buffer to s3'''\n",
    "    try:\n",
    "        csv_buffer = io.StringIO()\n",
    "        df.to_csv(csv_buffer, index=False)\n",
    "        # s3_resource = boto3.resource('s3')\n",
    "        s3_res.Object(bucket, key).put(Body=csv_buffer.getvalue())\n",
    "        logging.info(f'{key} saved to s3 bucket {bucket}')\n",
    "    except Exception as e:\n",
    "        raise logging.exception(e)"
   ]
  },
  {
   "cell_type": "code",
   "execution_count": 10,
   "id": "5dfdf66e-0e2d-4585-89a2-6d4fcd9674c7",
   "metadata": {},
   "outputs": [
    {
     "data": {
      "text/plain": [
       "{'ResponseMetadata': {'RequestId': 'CKJFH820G2DTC17K',\n",
       "  'HostId': 'v3R3SiLkEJwzzmg4SUMPfeQ9GNACeGIgBoWMfLpZYLfXfiaLji4xRIW2goJvhlJOsZynLx9QAoM=',\n",
       "  'HTTPStatusCode': 200,\n",
       "  'HTTPHeaders': {'x-amz-id-2': 'v3R3SiLkEJwzzmg4SUMPfeQ9GNACeGIgBoWMfLpZYLfXfiaLji4xRIW2goJvhlJOsZynLx9QAoM=',\n",
       "   'x-amz-request-id': 'CKJFH820G2DTC17K',\n",
       "   'date': 'Sun, 11 Dec 2022 06:29:55 GMT',\n",
       "   'content-type': 'application/xml',\n",
       "   'transfer-encoding': 'chunked',\n",
       "   'server': 'AmazonS3'},\n",
       "  'RetryAttempts': 0},\n",
       " 'Buckets': [{'Name': 'aws-logs-152100380489-eu-central-1',\n",
       "   'CreationDate': datetime.datetime(2022, 10, 24, 19, 50, 54, tzinfo=tzutc())},\n",
       "  {'Name': 'dataops6-vbo-de-bootcamp',\n",
       "   'CreationDate': datetime.datetime(2022, 10, 29, 8, 51, 8, tzinfo=tzutc())},\n",
       "  {'Name': 'erkan-vbo-de-bootcamp',\n",
       "   'CreationDate': datetime.datetime(2022, 10, 29, 2, 59, 19, tzinfo=tzutc())},\n",
       "  {'Name': 'vb-client-dcl',\n",
       "   'CreationDate': datetime.datetime(2022, 10, 25, 7, 53, 9, tzinfo=tzutc())},\n",
       "  {'Name': 'vbo-de-bootcamp',\n",
       "   'CreationDate': datetime.datetime(2022, 10, 30, 4, 9, 7, tzinfo=tzutc())},\n",
       "  {'Name': 'vbo-de-input',\n",
       "   'CreationDate': datetime.datetime(2022, 10, 30, 9, 27, 5, tzinfo=tzutc())},\n",
       "  {'Name': 'vbo-de-output',\n",
       "   'CreationDate': datetime.datetime(2022, 7, 31, 2, 34, 43, tzinfo=tzutc())}],\n",
       " 'Owner': {'ID': 'c21df9a3d175716ec0a3f9ecc502d4b9942079da48148fb92bb9493de87cca5b'}}"
      ]
     },
     "execution_count": 10,
     "metadata": {},
     "output_type": "execute_result"
    }
   ],
   "source": [
    "client.list_buckets()"
   ]
  },
  {
   "cell_type": "code",
   "execution_count": 12,
   "id": "a0763865-2e18-4b1f-b9c9-23566bd7bb39",
   "metadata": {},
   "outputs": [],
   "source": [
    "save_df_to_s3(df, \"vbo-de-bootcamp\", \"advertising\")"
   ]
  },
  {
   "cell_type": "markdown",
   "id": "ec0e74b0-aba5-4368-9f3f-c8b4ebb5da8f",
   "metadata": {},
   "source": [
    "# Read data from s3"
   ]
  },
  {
   "cell_type": "code",
   "execution_count": 13,
   "id": "5f0bd977-37c6-423a-909f-0433e1625f7a",
   "metadata": {},
   "outputs": [],
   "source": [
    "def load_df_from_s3(bucket, key, s3_client, index_col=None, usecols=None):\n",
    "    ''' Read a csv from a s3 bucket & load into pandas dataframe'''\n",
    "    try:\n",
    "        logging.info(f\"Loading {bucket, key}\")\n",
    "        obj = s3_client.get_object(Bucket=bucket, Key=key)\n",
    "        return pd.read_csv(obj['Body'], index_col=index_col, usecols=usecols, low_memory=False)\n",
    "    except Exception as e:\n",
    "        raise logging.exception(e)"
   ]
  },
  {
   "cell_type": "code",
   "execution_count": 14,
   "id": "7283c94a-9293-4419-ae3e-080c45ac31a9",
   "metadata": {},
   "outputs": [],
   "source": [
    "df_from_s3 = load_df_from_s3(\"vbo-de-bootcamp\", \"advertising\", client)"
   ]
  },
  {
   "cell_type": "code",
   "execution_count": 15,
   "id": "b908678d-d380-46bd-a0cb-6aa2342ec4c2",
   "metadata": {},
   "outputs": [
    {
     "data": {
      "text/html": [
       "<div>\n",
       "<style scoped>\n",
       "    .dataframe tbody tr th:only-of-type {\n",
       "        vertical-align: middle;\n",
       "    }\n",
       "\n",
       "    .dataframe tbody tr th {\n",
       "        vertical-align: top;\n",
       "    }\n",
       "\n",
       "    .dataframe thead th {\n",
       "        text-align: right;\n",
       "    }\n",
       "</style>\n",
       "<table border=\"1\" class=\"dataframe\">\n",
       "  <thead>\n",
       "    <tr style=\"text-align: right;\">\n",
       "      <th></th>\n",
       "      <th>ID</th>\n",
       "      <th>TV</th>\n",
       "      <th>Radio</th>\n",
       "      <th>Newspaper</th>\n",
       "      <th>Sales</th>\n",
       "    </tr>\n",
       "  </thead>\n",
       "  <tbody>\n",
       "    <tr>\n",
       "      <th>0</th>\n",
       "      <td>1</td>\n",
       "      <td>230.1</td>\n",
       "      <td>37.8</td>\n",
       "      <td>69.2</td>\n",
       "      <td>22.1</td>\n",
       "    </tr>\n",
       "    <tr>\n",
       "      <th>1</th>\n",
       "      <td>2</td>\n",
       "      <td>44.5</td>\n",
       "      <td>39.3</td>\n",
       "      <td>45.1</td>\n",
       "      <td>10.4</td>\n",
       "    </tr>\n",
       "    <tr>\n",
       "      <th>2</th>\n",
       "      <td>3</td>\n",
       "      <td>17.2</td>\n",
       "      <td>45.9</td>\n",
       "      <td>69.3</td>\n",
       "      <td>9.3</td>\n",
       "    </tr>\n",
       "    <tr>\n",
       "      <th>3</th>\n",
       "      <td>4</td>\n",
       "      <td>151.5</td>\n",
       "      <td>41.3</td>\n",
       "      <td>58.5</td>\n",
       "      <td>18.5</td>\n",
       "    </tr>\n",
       "    <tr>\n",
       "      <th>4</th>\n",
       "      <td>5</td>\n",
       "      <td>180.8</td>\n",
       "      <td>10.8</td>\n",
       "      <td>58.4</td>\n",
       "      <td>12.9</td>\n",
       "    </tr>\n",
       "  </tbody>\n",
       "</table>\n",
       "</div>"
      ],
      "text/plain": [
       "   ID     TV  Radio  Newspaper  Sales\n",
       "0   1  230.1   37.8       69.2   22.1\n",
       "1   2   44.5   39.3       45.1   10.4\n",
       "2   3   17.2   45.9       69.3    9.3\n",
       "3   4  151.5   41.3       58.5   18.5\n",
       "4   5  180.8   10.8       58.4   12.9"
      ]
     },
     "execution_count": 15,
     "metadata": {},
     "output_type": "execute_result"
    }
   ],
   "source": [
    "df_from_s3.head()"
   ]
  },
  {
   "cell_type": "code",
   "execution_count": null,
   "id": "ad408fde-27be-46b3-9a75-0ab24204c23d",
   "metadata": {},
   "outputs": [],
   "source": []
  }
 ],
 "metadata": {
  "kernelspec": {
   "display_name": "ds-dev",
   "language": "python",
   "name": "ds-dev"
  },
  "language_info": {
   "codemirror_mode": {
    "name": "ipython",
    "version": 3
   },
   "file_extension": ".py",
   "mimetype": "text/x-python",
   "name": "python",
   "nbconvert_exporter": "python",
   "pygments_lexer": "ipython3",
   "version": "3.8.15"
  }
 },
 "nbformat": 4,
 "nbformat_minor": 5
}
