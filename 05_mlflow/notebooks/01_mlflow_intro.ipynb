{
 "cells": [
  {
   "cell_type": "markdown",
   "id": "5ec7513b-090d-4b4f-bfe2-1f3bcc779017",
   "metadata": {},
   "source": [
    "# MLflow Tracking"
   ]
  },
  {
   "cell_type": "markdown",
   "id": "7675ea8d-d1f1-44ed-8bc5-0051c712d2c3",
   "metadata": {},
   "source": [
    "    MLflow Tracking is organized around the concept of runs, which are executions of some piece of data science code. Each run records the following information:"
   ]
  },
  {
   "cell_type": "markdown",
   "id": "cb0e1392-13ef-44de-b532-4758fb86a096",
   "metadata": {},
   "source": [
    "### Code Version\n",
    "Git commit hash used for the run, if it was run from an MLflow Project.\n",
    "\n",
    "### Start & End Time\n",
    "Start and end time of the run\n",
    "\n",
    "### Source\n",
    "Name of the file to launch the run, or the project name and entry point for the run if run from an MLflow Project.\n",
    "\n",
    "### Parameters\n",
    "Key-value input parameters of your choice. Both keys and values are strings.\n",
    "\n",
    "### Metrics\n",
    "Key-value metrics, where the value is numeric. Each metric can be updated throughout the course of the run (for example, to track how your model’s loss function is converging), and MLflow records and lets you visualize the metric’s full history.\n",
    "\n",
    "### Artifacts\n",
    "Output files in any format. For example, you can record images (for example, PNGs), models (for example, a pickled scikit-learn model), and data files (for example, a Parquet file) as artifacts."
   ]
  },
  {
   "cell_type": "markdown",
   "id": "06eedb8a-e992-4ec4-91a2-7c65446adb7c",
   "metadata": {},
   "source": [
    "# Experiments"
   ]
  },
  {
   "cell_type": "markdown",
   "id": "8d35065b-38f9-44d8-9cb2-a33042659688",
   "metadata": {},
   "source": [
    "You can optionally organize runs into experiments, which group together runs for a specific task. "
   ]
  },
  {
   "cell_type": "code",
   "execution_count": 1,
   "id": "a30fd065-4a18-4eae-92bf-c2b7a12f4d47",
   "metadata": {},
   "outputs": [],
   "source": [
    "#  mlflow.create_experiment()"
   ]
  },
  {
   "cell_type": "markdown",
   "id": "faabb2bf-c49b-4328-a474-2c59ccd9a408",
   "metadata": {},
   "source": [
    "# Where Runs Are Recorded"
   ]
  },
  {
   "cell_type": "markdown",
   "id": "dcd9bc5d-ee8f-426d-bba2-ec4ffaee2cf8",
   "metadata": {},
   "source": [
    "Usually recorded a tracking server. **MLFLOW_TRACKING_URI** environment variable to a tracking server’s URI or call **mlflow.set_tracking_uri()**"
   ]
  },
  {
   "cell_type": "markdown",
   "id": "bf9e0fc7-9614-4867-8b67-f7e999cf1f61",
   "metadata": {},
   "source": [
    "HTTP server (specified as https://my-server:5000), which is a server hosting an MLflow tracking server."
   ]
  },
  {
   "cell_type": "markdown",
   "id": "7c2073ac-2dcb-4612-89f6-d8e06fc05680",
   "metadata": {},
   "source": [
    " MLflow runs can also be recorded to **local files, to a SQLAlchemy compatible database**, or remotely to a **tracking server**."
   ]
  },
  {
   "cell_type": "markdown",
   "id": "aaa6f4bd-de82-4eca-9447-38f17740d4db",
   "metadata": {},
   "source": [
    "# How Runs and Artifacts are Recorded"
   ]
  },
  {
   "cell_type": "markdown",
   "id": "8341306b-b064-4a86-bb62-755bfc96cfa0",
   "metadata": {},
   "source": [
    "There are many didderen scenarios. Please refer: https://mlflow.org/docs/1.26.1/tracking.html#scenario-1-mlflow-on-localhost"
   ]
  },
  {
   "cell_type": "markdown",
   "id": "f3bfa9f1-fe98-4cd7-9f4b-53db10124d93",
   "metadata": {},
   "source": [
    "### In our Environment"
   ]
  },
  {
   "cell_type": "markdown",
   "id": "78173734-4dd7-48b6-b9cc-4aa660c39c9c",
   "metadata": {},
   "source": [
    "![](../images/01_Scenario_5_MLflow_with_remote_Tracking_Server_backend_and_artifact_stores.png)"
   ]
  },
  {
   "cell_type": "code",
   "execution_count": 2,
   "id": "d7b7a451-fe7a-4b9d-bb33-dd61979dc41a",
   "metadata": {},
   "outputs": [],
   "source": [
    "import mlflow\n",
    "mlflow.set_tracking_uri(\"http://localhost:5000\")\n",
    "mlflow.set_experiment(\"test\")\n",
    "\n",
    "with mlflow.start_run():\n",
    "    mlflow.get_artifact_uri()"
   ]
  },
  {
   "cell_type": "code",
   "execution_count": null,
   "id": "5f304b00-85d6-4fb6-8c17-f441a1d4f70a",
   "metadata": {},
   "outputs": [],
   "source": []
  }
 ],
 "metadata": {
  "kernelspec": {
   "display_name": "ds-dev",
   "language": "python",
   "name": "ds-dev"
  },
  "language_info": {
   "codemirror_mode": {
    "name": "ipython",
    "version": 3
   },
   "file_extension": ".py",
   "mimetype": "text/x-python",
   "name": "python",
   "nbconvert_exporter": "python",
   "pygments_lexer": "ipython3",
   "version": "3.8.13"
  }
 },
 "nbformat": 4,
 "nbformat_minor": 5
}
